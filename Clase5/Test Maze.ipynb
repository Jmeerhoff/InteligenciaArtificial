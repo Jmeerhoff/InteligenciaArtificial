{
 "cells": [
  {
   "cell_type": "markdown",
   "metadata": {},
   "source": [
    "# Maze"
   ]
  },
  {
   "cell_type": "code",
   "execution_count": 1,
   "metadata": {},
   "outputs": [],
   "source": [
    "# https://github.com/MattChanTK/gym-maze\n",
    "# !pip install gym pygame"
   ]
  },
  {
   "cell_type": "code",
   "execution_count": 2,
   "metadata": {},
   "outputs": [
    {
     "name": "stdout",
     "output_type": "stream",
     "text": [
      "pygame 2.1.2 (SDL 2.0.18, Python 3.9.7)\n",
      "Hello from the pygame community. https://www.pygame.org/contribute.html\n"
     ]
    }
   ],
   "source": [
    "from mazeEnvExtended import MazeEnvExtended\n",
    "from agent import Agent\n",
    "from modelExample import ModelExample\n",
    "from modelNuestro import ModelNuestro\n",
    "from modelLRTA import ModelLRTA"
   ]
  },
  {
   "cell_type": "code",
   "execution_count": 3,
   "metadata": {},
   "outputs": [],
   "source": [
    "maze_name = \"MazeEnv100x100\""
   ]
  },
  {
   "cell_type": "markdown",
   "metadata": {},
   "source": [
    "## Environment"
   ]
  },
  {
   "cell_type": "code",
   "execution_count": 4,
   "metadata": {},
   "outputs": [],
   "source": [
    "env = MazeEnvExtended(maze_file = maze_name + '.npy', mode='human')"
   ]
  },
  {
   "cell_type": "code",
   "execution_count": 5,
   "metadata": {},
   "outputs": [
    {
     "data": {
      "text/plain": [
       "Discrete(4)"
      ]
     },
     "execution_count": 5,
     "metadata": {},
     "output_type": "execute_result"
    }
   ],
   "source": [
    "env.action_space"
   ]
  },
  {
   "cell_type": "code",
   "execution_count": 6,
   "metadata": {},
   "outputs": [],
   "source": [
    "#env.action_space.start, env.action_space.n"
   ]
  },
  {
   "cell_type": "code",
   "execution_count": 7,
   "metadata": {},
   "outputs": [
    {
     "data": {
      "text/plain": [
       "Box([0. 0.], [99. 99.], (2,), float32)"
      ]
     },
     "execution_count": 7,
     "metadata": {},
     "output_type": "execute_result"
    }
   ],
   "source": [
    "env.observation_space"
   ]
  },
  {
   "cell_type": "code",
   "execution_count": 8,
   "metadata": {},
   "outputs": [
    {
     "data": {
      "text/plain": [
       "array([[[  0,   0,   0],\n",
       "        [  0,   0,   0],\n",
       "        [  0,   0,   0],\n",
       "        ...,\n",
       "        [  0,   0,   0],\n",
       "        [  0,   0,   0],\n",
       "        [  0,   0,   0]],\n",
       "\n",
       "       [[  0,   0,   0],\n",
       "        [ 20, 159,  20],\n",
       "        [ 20, 159,  20],\n",
       "        ...,\n",
       "        [255, 255, 255],\n",
       "        [255, 255, 255],\n",
       "        [  0,   0,   0]],\n",
       "\n",
       "       [[  0,   0,   0],\n",
       "        [ 20, 159,  20],\n",
       "        [  0,   0, 150],\n",
       "        ...,\n",
       "        [255, 255, 255],\n",
       "        [255, 255, 255],\n",
       "        [  0,   0,   0]],\n",
       "\n",
       "       ...,\n",
       "\n",
       "       [[  0,   0,   0],\n",
       "        [255, 255, 255],\n",
       "        [255, 255, 255],\n",
       "        ...,\n",
       "        [255, 255, 255],\n",
       "        [255, 255, 255],\n",
       "        [  0,   0,   0]],\n",
       "\n",
       "       [[  0,   0,   0],\n",
       "        [255, 255, 255],\n",
       "        [255, 255, 255],\n",
       "        ...,\n",
       "        [255, 255, 255],\n",
       "        [255, 255, 255],\n",
       "        [  0,   0,   0]],\n",
       "\n",
       "       [[  0,   0,   0],\n",
       "        [  0,   0,   0],\n",
       "        [  0,   0,   0],\n",
       "        ...,\n",
       "        [  0,   0,   0],\n",
       "        [  0,   0,   0],\n",
       "        [  0,   0,   0]]], dtype=uint8)"
      ]
     },
     "execution_count": 8,
     "metadata": {},
     "output_type": "execute_result"
    }
   ],
   "source": [
    "env.render()"
   ]
  },
  {
   "cell_type": "markdown",
   "metadata": {},
   "source": [
    "## Model"
   ]
  },
  {
   "cell_type": "code",
   "execution_count": 9,
   "metadata": {},
   "outputs": [],
   "source": [
    "model = ModelLRTA(model_file = maze_name + '.txt')"
   ]
  },
  {
   "cell_type": "code",
   "execution_count": 10,
   "metadata": {},
   "outputs": [
    {
     "name": "stdout",
     "output_type": "stream",
     "text": [
      "Load your model here with file: gym_maze/envs/maze_samples/MazeEnv100x100.txt\n"
     ]
    }
   ],
   "source": [
    "# model = ModelNuestro(model_file = maze_name + '.txt')"
   ]
  },
  {
   "cell_type": "code",
   "execution_count": 11,
   "metadata": {},
   "outputs": [],
   "source": [
    "model.set_mazeSize(env.maze_size[1])\n"
   ]
  },
  {
   "cell_type": "code",
   "execution_count": 12,
   "metadata": {},
   "outputs": [],
   "source": [
    "#model._raw_model"
   ]
  },
  {
   "cell_type": "code",
   "execution_count": 13,
   "metadata": {},
   "outputs": [
    {
     "data": {
      "text/plain": [
       "array([0, 0])"
      ]
     },
     "execution_count": 13,
     "metadata": {},
     "output_type": "execute_result"
    }
   ],
   "source": [
    "env.reset()"
   ]
  },
  {
   "cell_type": "code",
   "execution_count": 14,
   "metadata": {},
   "outputs": [
    {
     "name": "stdout",
     "output_type": "stream",
     "text": [
      "<modelNuestro.ModelNuestro object at 0x7ff2d074e310>\n"
     ]
    }
   ],
   "source": [
    "agent = Agent(model = model)"
   ]
  },
  {
   "cell_type": "code",
   "execution_count": 15,
   "metadata": {},
   "outputs": [
    {
     "name": "stdout",
     "output_type": "stream",
     "text": [
      "Play manually...\n",
      "Goal 0 is (908, True)\n"
     ]
    },
    {
     "ename": "TypeError",
     "evalue": "cannot unpack non-iterable NoneType object",
     "output_type": "error",
     "traceback": [
      "\u001b[0;31m---------------------------------------------------------------------------\u001b[0m",
      "\u001b[0;31mTypeError\u001b[0m                                 Traceback (most recent call last)",
      "\u001b[1;32m/Users/jmeerhoff/Desktop/ORT/Semestre_7/InteligenciaArtificial/Practico/Clase5/Test Maze.ipynb Cell 18'\u001b[0m in \u001b[0;36m<cell line: 1>\u001b[0;34m()\u001b[0m\n\u001b[0;32m----> <a href='vscode-notebook-cell:/Users/jmeerhoff/Desktop/ORT/Semestre_7/InteligenciaArtificial/Practico/Clase5/Test%20Maze.ipynb#ch0000017?line=0'>1</a>\u001b[0m rewards, step_counter \u001b[39m=\u001b[39m agent\u001b[39m.\u001b[39;49mrun(env)\n",
      "File \u001b[0;32m~/Desktop/ORT/Semestre_7/InteligenciaArtificial/Practico/Clase5/agent.py:11\u001b[0m, in \u001b[0;36mAgent.run\u001b[0;34m(self, env)\u001b[0m\n\u001b[1;32m      <a href='file:///Users/jmeerhoff/Desktop/ORT/Semestre_7/InteligenciaArtificial/Practico/Clase5/agent.py?line=8'>9</a>\u001b[0m \u001b[39mdef\u001b[39;00m \u001b[39mrun\u001b[39m(\u001b[39mself\u001b[39m, env):\n\u001b[1;32m     <a href='file:///Users/jmeerhoff/Desktop/ORT/Semestre_7/InteligenciaArtificial/Practico/Clase5/agent.py?line=9'>10</a>\u001b[0m     \u001b[39mself\u001b[39m\u001b[39m.\u001b[39mmodel\u001b[39m.\u001b[39mreset()\n\u001b[0;32m---> <a href='file:///Users/jmeerhoff/Desktop/ORT/Semestre_7/InteligenciaArtificial/Practico/Clase5/agent.py?line=10'>11</a>\u001b[0m     \u001b[39mreturn\u001b[39;00m \u001b[39mself\u001b[39;49m\u001b[39m.\u001b[39;49m_loop(env)\n",
      "File \u001b[0;32m~/Desktop/ORT/Semestre_7/InteligenciaArtificial/Practico/Clase5/agent.py:26\u001b[0m, in \u001b[0;36mAgent._loop\u001b[0;34m(self, env)\u001b[0m\n\u001b[1;32m     <a href='file:///Users/jmeerhoff/Desktop/ORT/Semestre_7/InteligenciaArtificial/Practico/Clase5/agent.py?line=21'>22</a>\u001b[0m \u001b[39mself\u001b[39m\u001b[39m.\u001b[39mset_goal(step_counter, env)\n\u001b[1;32m     <a href='file:///Users/jmeerhoff/Desktop/ORT/Semestre_7/InteligenciaArtificial/Practico/Clase5/agent.py?line=23'>24</a>\u001b[0m node \u001b[39m=\u001b[39m obs[\u001b[39m0\u001b[39m] \u001b[39m+\u001b[39m obs[\u001b[39m1\u001b[39m]\u001b[39m*\u001b[39menv\u001b[39m.\u001b[39mmaze_size[\u001b[39m1\u001b[39m]\n\u001b[0;32m---> <a href='file:///Users/jmeerhoff/Desktop/ORT/Semestre_7/InteligenciaArtificial/Practico/Clase5/agent.py?line=25'>26</a>\u001b[0m action \u001b[39m=\u001b[39m \u001b[39mself\u001b[39;49m\u001b[39m.\u001b[39;49mmodel\u001b[39m.\u001b[39;49mnext_actionV2(\u001b[39mstr\u001b[39;49m(node))\n\u001b[1;32m     <a href='file:///Users/jmeerhoff/Desktop/ORT/Semestre_7/InteligenciaArtificial/Practico/Clase5/agent.py?line=26'>27</a>\u001b[0m obs, reward, done_env, _ \u001b[39m=\u001b[39m env\u001b[39m.\u001b[39mstep(action)\n\u001b[1;32m     <a href='file:///Users/jmeerhoff/Desktop/ORT/Semestre_7/InteligenciaArtificial/Practico/Clase5/agent.py?line=27'>28</a>\u001b[0m \u001b[39mprint\u001b[39m(\u001b[39m\"\u001b[39m\u001b[39mobs=\u001b[39m\u001b[39m\"\u001b[39m \u001b[39m+\u001b[39m \u001b[39mstr\u001b[39m(obs) \u001b[39m+\u001b[39m \u001b[39m\"\u001b[39m\u001b[39m reward=\u001b[39m\u001b[39m\"\u001b[39m \u001b[39m+\u001b[39m\n\u001b[1;32m     <a href='file:///Users/jmeerhoff/Desktop/ORT/Semestre_7/InteligenciaArtificial/Practico/Clase5/agent.py?line=28'>29</a>\u001b[0m       \u001b[39mstr\u001b[39m(reward) \u001b[39m+\u001b[39m \u001b[39m\"\u001b[39m\u001b[39m done_env=\u001b[39m\u001b[39m\"\u001b[39m \u001b[39m+\u001b[39m \u001b[39mstr\u001b[39m(done_env))\n",
      "File \u001b[0;32m~/Desktop/ORT/Semestre_7/InteligenciaArtificial/Practico/Clase5/modelNuestro.py:49\u001b[0m, in \u001b[0;36mModelNuestro.next_actionV2\u001b[0;34m(self, node)\u001b[0m\n\u001b[1;32m     <a href='file:///Users/jmeerhoff/Desktop/ORT/Semestre_7/InteligenciaArtificial/Practico/Clase5/modelNuestro.py?line=45'>46</a>\u001b[0m \u001b[39mdef\u001b[39;00m \u001b[39mnext_actionV2\u001b[39m(\u001b[39mself\u001b[39m, node):\n\u001b[1;32m     <a href='file:///Users/jmeerhoff/Desktop/ORT/Semestre_7/InteligenciaArtificial/Practico/Clase5/modelNuestro.py?line=46'>47</a>\u001b[0m     \u001b[39mif\u001b[39;00m(\u001b[39mself\u001b[39m\u001b[39m.\u001b[39mlast_goal \u001b[39m!=\u001b[39m \u001b[39mself\u001b[39m\u001b[39m.\u001b[39mcurrent_goal):\n\u001b[1;32m     <a href='file:///Users/jmeerhoff/Desktop/ORT/Semestre_7/InteligenciaArtificial/Practico/Clase5/modelNuestro.py?line=47'>48</a>\u001b[0m         \u001b[39m#end_node, prev_node = self.bfs(node)\u001b[39;00m\n\u001b[0;32m---> <a href='file:///Users/jmeerhoff/Desktop/ORT/Semestre_7/InteligenciaArtificial/Practico/Clase5/modelNuestro.py?line=48'>49</a>\u001b[0m         end_node, prev_node \u001b[39m=\u001b[39m \u001b[39mself\u001b[39m\u001b[39m.\u001b[39ma_star(node)\n\u001b[1;32m     <a href='file:///Users/jmeerhoff/Desktop/ORT/Semestre_7/InteligenciaArtificial/Practico/Clase5/modelNuestro.py?line=49'>50</a>\u001b[0m         \u001b[39mself\u001b[39m\u001b[39m.\u001b[39mmake_strategy(end_node, prev_node)\n\u001b[1;32m     <a href='file:///Users/jmeerhoff/Desktop/ORT/Semestre_7/InteligenciaArtificial/Practico/Clase5/modelNuestro.py?line=50'>51</a>\u001b[0m     \u001b[39mreturn\u001b[39;00m \u001b[39mself\u001b[39m\u001b[39m.\u001b[39mstrategy(node)\n",
      "\u001b[0;31mTypeError\u001b[0m: cannot unpack non-iterable NoneType object"
     ]
    }
   ],
   "source": [
    "rewards, step_counter = agent.run(env)"
   ]
  },
  {
   "cell_type": "code",
   "execution_count": null,
   "metadata": {},
   "outputs": [],
   "source": [
    "rewards, step_counter"
   ]
  }
 ],
 "metadata": {
  "kernelspec": {
   "display_name": "Python 3",
   "language": "python",
   "name": "python3"
  },
  "language_info": {
   "codemirror_mode": {
    "name": "ipython",
    "version": 3
   },
   "file_extension": ".py",
   "mimetype": "text/x-python",
   "name": "python",
   "nbconvert_exporter": "python",
   "pygments_lexer": "ipython3",
   "version": "3.9.12"
  }
 },
 "nbformat": 4,
 "nbformat_minor": 2
}
