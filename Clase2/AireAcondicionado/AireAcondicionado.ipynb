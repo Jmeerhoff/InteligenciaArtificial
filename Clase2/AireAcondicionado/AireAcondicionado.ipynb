{
 "cells": [
  {
   "cell_type": "code",
   "execution_count": 4,
   "metadata": {},
   "outputs": [],
   "source": [
    "import gym\n",
    "import numpy as np\n",
    "from gym import error, spaces, utils, Env\n",
    "import matplotlib.pyplot as plt\n",
    "from sklearn.metrics import mean_squared_error, mean_absolute_error"
   ]
  },
  {
   "cell_type": "markdown",
   "metadata": {},
   "source": [
    "# Descripción del problema\n",
    "\n",
    "El siguiente ejemplo consiste en un Ambiente (Room). La temperatura de la habitación cambia debido a la temperatura externa ambiente (se asume de forma desconocida). La habitación cuenta con un equipo de Aire Acondicionado controlado por un Agente. El objetivo de este Agente es mantener la temperatura en 0 grados. El Aire Acondicionado puede cambiar la temperatura en 0, 1, 2 o 3 grados ya sea frío o calor."
   ]
  },
  {
   "cell_type": "markdown",
   "metadata": {},
   "source": [
    "# Ambiente\n",
    "\n",
    "El ambiente (Room) está simulado por el siguiente código"
   ]
  },
  {
   "cell_type": "code",
   "execution_count": 5,
   "metadata": {},
   "outputs": [],
   "source": [
    "class Room(Env):\n",
    "    \n",
    "    def __init__(self):\n",
    "        self.observation_space = spaces.Box(low=-20, high=40, shape=(), dtype=np.float32)\n",
    "        self.action_space = spaces.Discrete(7, start=-3)\n",
    "                  \n",
    "    def reset(self):\n",
    "        self.step_count = 0\n",
    "        self.initial_random = self.observation_space.sample()\n",
    "        self.external_temp = 0\n",
    "        self.external_temp = self._temp_variation()\n",
    "        self.temp = self.external_temp\n",
    "        return self.temp\n",
    "    \n",
    "    def step(self, action):\n",
    "        delta_temp = self._temp_variation()\n",
    "        self.external_temp += delta_temp\n",
    "        self.temp += delta_temp + action\n",
    "        self.step_count += 1\n",
    "        return self.temp\n",
    "\n",
    "    def _temp_variation(self):\n",
    "        x = self.initial_random + self.step_count\n",
    "        return np.float64('%.2f'%(20 * np.sin(x/10))) - self.external_temp \n",
    "          "
   ]
  },
  {
   "cell_type": "markdown",
   "metadata": {},
   "source": [
    "# Test Room"
   ]
  },
  {
   "cell_type": "code",
   "execution_count": 20,
   "metadata": {},
   "outputs": [],
   "source": [
    "env = Room()"
   ]
  },
  {
   "cell_type": "code",
   "execution_count": 22,
   "metadata": {},
   "outputs": [
    {
     "data": {
      "text/plain": [
       "Box(-20.0, 40.0, (), float32)"
      ]
     },
     "execution_count": 22,
     "metadata": {},
     "output_type": "execute_result"
    }
   ],
   "source": [
    "env.observation_space"
   ]
  },
  {
   "cell_type": "code",
   "execution_count": 28,
   "metadata": {},
   "outputs": [
    {
     "data": {
      "text/plain": [
       "array(-18.437523, dtype=float32)"
      ]
     },
     "execution_count": 28,
     "metadata": {},
     "output_type": "execute_result"
    }
   ],
   "source": [
    "env.observation_space.sample()"
   ]
  },
  {
   "cell_type": "code",
   "execution_count": 29,
   "metadata": {},
   "outputs": [
    {
     "data": {
      "text/plain": [
       "Discrete(7, start=-3)"
      ]
     },
     "execution_count": 29,
     "metadata": {},
     "output_type": "execute_result"
    }
   ],
   "source": [
    "env.action_space"
   ]
  },
  {
   "cell_type": "code",
   "execution_count": 33,
   "metadata": {},
   "outputs": [
    {
     "data": {
      "text/plain": [
       "3"
      ]
     },
     "execution_count": 33,
     "metadata": {},
     "output_type": "execute_result"
    }
   ],
   "source": [
    "env.action_space.sample()"
   ]
  },
  {
   "cell_type": "code",
   "execution_count": 38,
   "metadata": {},
   "outputs": [
    {
     "data": {
      "text/plain": [
       "-10.49"
      ]
     },
     "execution_count": 38,
     "metadata": {},
     "output_type": "execute_result"
    }
   ],
   "source": [
    "env.reset()"
   ]
  },
  {
   "cell_type": "markdown",
   "metadata": {},
   "source": [
    "# Reflex Agente\n",
    "\n",
    "Esta es la implementación de un Agente Reflejo Simple, que dada la observación (temperatura de la habitación), toma una acción de enfriar o calentar en 0, 1, 2 o 3 grados. El agente solo enfría o calienta si la temperatura difiere en más de 2 grados."
   ]
  },
  {
   "cell_type": "code",
   "execution_count": 39,
   "metadata": {},
   "outputs": [],
   "source": [
    "class AgentReflex():\n",
    "\n",
    "    def lookup(self, obs):\n",
    "        if obs > 9:\n",
    "            return -3\n",
    "        elif obs > 5:\n",
    "            return -2\n",
    "        elif obs > 2:\n",
    "            return -1\n",
    "        elif obs < -2:\n",
    "            return 1\n",
    "        elif obs < -5:\n",
    "            return 2\n",
    "        elif obs < -9:\n",
    "            return 3\n",
    "        else:\n",
    "            return 0"
   ]
  },
  {
   "cell_type": "markdown",
   "metadata": {},
   "source": [
    "# Test Reflex"
   ]
  },
  {
   "cell_type": "code",
   "execution_count": 55,
   "metadata": {},
   "outputs": [],
   "source": [
    "agent = AgentReflex()"
   ]
  },
  {
   "cell_type": "code",
   "execution_count": 85,
   "metadata": {},
   "outputs": [],
   "source": [
    "obs = env.reset()\n",
    "external_res = []\n",
    "agent_res = []\n",
    "total_steps = 100"
   ]
  },
  {
   "cell_type": "code",
   "execution_count": 86,
   "metadata": {},
   "outputs": [
    {
     "name": "stdout",
     "output_type": "stream",
     "text": [
      "External: -19.47 \n",
      " Prev. Obs: -19.47 -> Action: 1 -> Room: -18.47\n",
      "External: -19.47 \n",
      " Prev. Obs: -18.47 -> Action: 1 -> Room: -17.83\n",
      "External: -19.83 \n",
      " Prev. Obs: -17.83 -> Action: 1 -> Room: -16.99\n",
      "External: -19.99 \n",
      " Prev. Obs: -16.99 -> Action: 1 -> Room: -15.95\n",
      "External: -19.95 \n",
      " Prev. Obs: -15.95 -> Action: 1 -> Room: -14.719999999999999\n",
      "External: -19.72 \n",
      " Prev. Obs: -14.719999999999999 -> Action: 1 -> Room: -13.280000000000001\n",
      "External: -19.28 \n",
      " Prev. Obs: -13.280000000000001 -> Action: 1 -> Room: -11.66\n",
      "External: -18.66 \n",
      " Prev. Obs: -11.66 -> Action: 1 -> Room: -9.850000000000001\n",
      "External: -17.85 \n",
      " Prev. Obs: -9.850000000000001 -> Action: 1 -> Room: -7.859999999999999\n",
      "External: -16.86 \n",
      " Prev. Obs: -7.859999999999999 -> Action: 1 -> Room: -5.699999999999999\n",
      "External: -15.7 \n",
      " Prev. Obs: -5.699999999999999 -> Action: 1 -> Room: -3.380000000000001\n",
      "External: -14.38 \n",
      " Prev. Obs: -3.380000000000001 -> Action: 1 -> Room: -0.9199999999999999\n",
      "External: -12.92 \n",
      " Prev. Obs: -0.9199999999999999 -> Action: 0 -> Room: 0.6600000000000001\n",
      "External: -11.34 \n",
      " Prev. Obs: 0.6600000000000001 -> Action: 0 -> Room: 2.369999999999999\n",
      "External: -9.63 \n",
      " Prev. Obs: 2.369999999999999 -> Action: -1 -> Room: 3.16\n",
      "External: -7.84 \n",
      " Prev. Obs: 3.16 -> Action: -1 -> Room: 4.04\n",
      "External: -5.96 \n",
      " Prev. Obs: 4.04 -> Action: -1 -> Room: 4.98\n",
      "External: -4.02 \n",
      " Prev. Obs: 4.98 -> Action: -1 -> Room: 5.95\n",
      "External: -2.05 \n",
      " Prev. Obs: 5.95 -> Action: -2 -> Room: 5.95\n",
      "External: -0.050000000000000044 \n",
      " Prev. Obs: 5.95 -> Action: -2 -> Room: 5.95\n",
      "External: 1.95 \n",
      " Prev. Obs: 5.95 -> Action: -2 -> Room: 5.92\n",
      "External: 3.92 \n",
      " Prev. Obs: 5.92 -> Action: -2 -> Room: 5.86\n",
      "External: 5.86 \n",
      " Prev. Obs: 5.86 -> Action: -2 -> Room: 5.74\n",
      "External: 7.74 \n",
      " Prev. Obs: 5.74 -> Action: -2 -> Room: 5.539999999999999\n",
      "External: 9.54 \n",
      " Prev. Obs: 5.539999999999999 -> Action: -2 -> Room: 5.25\n",
      "External: 11.25 \n",
      " Prev. Obs: 5.25 -> Action: -2 -> Room: 4.84\n",
      "External: 12.84 \n",
      " Prev. Obs: 4.84 -> Action: -1 -> Room: 5.3100000000000005\n",
      "External: 14.31 \n",
      " Prev. Obs: 5.3100000000000005 -> Action: -2 -> Room: 4.630000000000001\n",
      "External: 15.63 \n",
      " Prev. Obs: 4.630000000000001 -> Action: -1 -> Room: 4.800000000000001\n",
      "External: 16.8 \n",
      " Prev. Obs: 4.800000000000001 -> Action: -1 -> Room: 4.800000000000001\n",
      "External: 17.8 \n",
      " Prev. Obs: 4.800000000000001 -> Action: -1 -> Room: 4.620000000000001\n",
      "External: 18.62 \n",
      " Prev. Obs: 4.620000000000001 -> Action: -1 -> Room: 4.260000000000002\n",
      "External: 19.26 \n",
      " Prev. Obs: 4.260000000000002 -> Action: -1 -> Room: 3.6999999999999993\n",
      "External: 19.7 \n",
      " Prev. Obs: 3.6999999999999993 -> Action: -1 -> Room: 2.9499999999999993\n",
      "External: 19.95 \n",
      " Prev. Obs: 2.9499999999999993 -> Action: -1 -> Room: 1.9899999999999984\n",
      "External: 19.99 \n",
      " Prev. Obs: 1.9899999999999984 -> Action: 0 -> Room: 1.8399999999999999\n",
      "External: 19.84 \n",
      " Prev. Obs: 1.8399999999999999 -> Action: 0 -> Room: 1.4899999999999984\n",
      "External: 19.49 \n",
      " Prev. Obs: 1.4899999999999984 -> Action: 0 -> Room: 0.9400000000000013\n",
      "External: 18.94 \n",
      " Prev. Obs: 0.9400000000000013 -> Action: 0 -> Room: 0.21000000000000085\n",
      "External: 18.21 \n",
      " Prev. Obs: 0.21000000000000085 -> Action: 0 -> Room: -0.7100000000000009\n",
      "External: 17.29 \n",
      " Prev. Obs: -0.7100000000000009 -> Action: 0 -> Room: -1.8000000000000007\n",
      "External: 16.2 \n",
      " Prev. Obs: -1.8000000000000007 -> Action: 0 -> Room: -3.0500000000000007\n",
      "External: 14.95 \n",
      " Prev. Obs: -3.0500000000000007 -> Action: 1 -> Room: -3.4499999999999993\n",
      "External: 13.55 \n",
      " Prev. Obs: -3.4499999999999993 -> Action: 1 -> Room: -3.99\n",
      "External: 12.01 \n",
      " Prev. Obs: -3.99 -> Action: 1 -> Room: -4.65\n",
      "External: 10.35 \n",
      " Prev. Obs: -4.65 -> Action: 1 -> Room: -5.41\n",
      "External: 8.59 \n",
      " Prev. Obs: -5.41 -> Action: 1 -> Room: -6.25\n",
      "External: 6.75 \n",
      " Prev. Obs: -6.25 -> Action: 1 -> Room: -7.16\n",
      "External: 4.84 \n",
      " Prev. Obs: -7.16 -> Action: 1 -> Room: -8.129999999999999\n",
      "External: 2.87 \n",
      " Prev. Obs: -8.129999999999999 -> Action: 1 -> Room: -9.12\n",
      "External: 0.8799999999999999 \n",
      " Prev. Obs: -9.12 -> Action: 1 -> Room: -10.12\n",
      "External: -1.12 \n",
      " Prev. Obs: -10.12 -> Action: 1 -> Room: -11.1\n",
      "External: -3.1 \n",
      " Prev. Obs: -11.1 -> Action: 1 -> Room: -12.059999999999999\n",
      "External: -5.06 \n",
      " Prev. Obs: -12.059999999999999 -> Action: 1 -> Room: -12.969999999999999\n",
      "External: -6.97 \n",
      " Prev. Obs: -12.969999999999999 -> Action: 1 -> Room: -13.8\n",
      "External: -8.8 \n",
      " Prev. Obs: -13.8 -> Action: 1 -> Room: -14.55\n",
      "External: -10.55 \n",
      " Prev. Obs: -14.55 -> Action: 1 -> Room: -15.2\n",
      "External: -12.2 \n",
      " Prev. Obs: -15.2 -> Action: 1 -> Room: -15.72\n",
      "External: -13.72 \n",
      " Prev. Obs: -15.72 -> Action: 1 -> Room: -16.1\n",
      "External: -15.1 \n",
      " Prev. Obs: -16.1 -> Action: 1 -> Room: -16.340000000000003\n",
      "External: -16.34 \n",
      " Prev. Obs: -16.340000000000003 -> Action: 1 -> Room: -16.410000000000004\n",
      "External: -17.41 \n",
      " Prev. Obs: -16.410000000000004 -> Action: 1 -> Room: -16.300000000000004\n",
      "External: -18.3 \n",
      " Prev. Obs: -16.300000000000004 -> Action: 1 -> Room: -16.020000000000003\n",
      "External: -19.02 \n",
      " Prev. Obs: -16.020000000000003 -> Action: 1 -> Room: -15.540000000000003\n",
      "External: -19.54 \n",
      " Prev. Obs: -15.540000000000003 -> Action: 1 -> Room: -14.870000000000005\n",
      "External: -19.87 \n",
      " Prev. Obs: -14.870000000000005 -> Action: 1 -> Room: -14.000000000000004\n",
      "External: -20.0 \n",
      " Prev. Obs: -14.000000000000004 -> Action: 1 -> Room: -12.930000000000003\n",
      "External: -19.93 \n",
      " Prev. Obs: -12.930000000000003 -> Action: 1 -> Room: -11.660000000000004\n",
      "External: -19.66 \n",
      " Prev. Obs: -11.660000000000004 -> Action: 1 -> Room: -10.190000000000005\n",
      "External: -19.19 \n",
      " Prev. Obs: -10.190000000000005 -> Action: 1 -> Room: -8.540000000000003\n",
      "External: -18.54 \n",
      " Prev. Obs: -8.540000000000003 -> Action: 1 -> Room: -6.690000000000005\n",
      "External: -17.69 \n",
      " Prev. Obs: -6.690000000000005 -> Action: 1 -> Room: -4.670000000000005\n",
      "External: -16.67 \n",
      " Prev. Obs: -4.670000000000005 -> Action: 1 -> Room: -2.4900000000000038\n",
      "External: -15.49 \n",
      " Prev. Obs: -2.4900000000000038 -> Action: 1 -> Room: -0.1500000000000039\n",
      "External: -14.15 \n",
      " Prev. Obs: -0.1500000000000039 -> Action: 0 -> Room: 1.3299999999999965\n",
      "External: -12.67 \n",
      " Prev. Obs: 1.3299999999999965 -> Action: 0 -> Room: 2.939999999999996\n",
      "External: -11.06 \n",
      " Prev. Obs: 2.939999999999996 -> Action: -1 -> Room: 3.6599999999999966\n",
      "External: -9.34 \n",
      " Prev. Obs: 3.6599999999999966 -> Action: -1 -> Room: 4.469999999999996\n",
      "External: -7.53 \n",
      " Prev. Obs: 4.469999999999996 -> Action: -1 -> Room: 5.359999999999997\n",
      "External: -5.64 \n",
      " Prev. Obs: 5.359999999999997 -> Action: -2 -> Room: 5.309999999999997\n",
      "External: -3.69 \n",
      " Prev. Obs: 5.309999999999997 -> Action: -2 -> Room: 5.289999999999997\n",
      "External: -1.71 \n",
      " Prev. Obs: 5.289999999999997 -> Action: -2 -> Room: 5.279999999999998\n",
      "External: 0.28 \n",
      " Prev. Obs: 5.279999999999998 -> Action: -2 -> Room: 5.279999999999998\n",
      "External: 2.28 \n",
      " Prev. Obs: 5.279999999999998 -> Action: -2 -> Room: 5.249999999999998\n",
      "External: 4.25 \n",
      " Prev. Obs: 5.249999999999998 -> Action: -2 -> Room: 5.179999999999998\n",
      "External: 6.18 \n",
      " Prev. Obs: 5.179999999999998 -> Action: -2 -> Room: 5.049999999999999\n",
      "External: 8.05 \n",
      " Prev. Obs: 5.049999999999999 -> Action: -2 -> Room: 4.839999999999998\n",
      "External: 9.84 \n",
      " Prev. Obs: 4.839999999999998 -> Action: -1 -> Room: 5.529999999999998\n",
      "External: 11.53 \n",
      " Prev. Obs: 5.529999999999998 -> Action: -2 -> Room: 5.099999999999998\n",
      "External: 13.1 \n",
      " Prev. Obs: 5.099999999999998 -> Action: -2 -> Room: 4.539999999999997\n",
      "External: 14.54 \n",
      " Prev. Obs: 4.539999999999997 -> Action: -1 -> Room: 4.839999999999998\n",
      "External: 15.84 \n",
      " Prev. Obs: 4.839999999999998 -> Action: -1 -> Room: 4.979999999999999\n",
      "External: 16.98 \n",
      " Prev. Obs: 4.979999999999999 -> Action: -1 -> Room: 4.9499999999999975\n",
      "External: 17.95 \n",
      " Prev. Obs: 4.9499999999999975 -> Action: -1 -> Room: 4.739999999999997\n",
      "External: 18.74 \n",
      " Prev. Obs: 4.739999999999997 -> Action: -1 -> Room: 4.35\n",
      "External: 19.35 \n",
      " Prev. Obs: 4.35 -> Action: -1 -> Room: 3.76\n",
      "External: 19.76 \n",
      " Prev. Obs: 3.76 -> Action: -1 -> Room: 2.969999999999997\n",
      "External: 19.97 \n",
      " Prev. Obs: 2.969999999999997 -> Action: -1 -> Room: 1.9799999999999986\n",
      "External: 19.98 \n",
      " Prev. Obs: 1.9799999999999986 -> Action: 0 -> Room: 1.7899999999999974\n",
      "External: 19.79 \n",
      " Prev. Obs: 1.7899999999999974 -> Action: 0 -> Room: 1.4099999999999984\n"
     ]
    }
   ],
   "source": [
    "for i in range(0, total_steps):  \n",
    "    \n",
    "    # solamente para evaluar la evolución de la temperatura de la habitación con y sin agente\n",
    "    # la temperatura de la habitación sin el agente es igual a la temperatura exterior\n",
    "    \n",
    "    external_temp = env.external_temp\n",
    "    external_res.append(external_temp)\n",
    "    \n",
    "    # decisión y acción del agente\n",
    "    \n",
    "    prev_obs = obs\n",
    "    action = agent.lookup(obs)\n",
    "    obs = env.step(action)\n",
    "    agent_res.append(obs)  \n",
    "    \n",
    "    print('External:', external_temp, '\\n','Prev. Obs:', prev_obs, '-> Action:', action, '-> Room:', obs)"
   ]
  },
  {
   "cell_type": "markdown",
   "metadata": {},
   "source": [
    "# Graficando los resultados"
   ]
  },
  {
   "cell_type": "code",
   "execution_count": 87,
   "metadata": {},
   "outputs": [
    {
     "data": {
      "text/plain": [
       "[<matplotlib.lines.Line2D at 0x7fd2409f9310>]"
      ]
     },
     "execution_count": 87,
     "metadata": {},
     "output_type": "execute_result"
    },
    {
     "data": {
      "image/png": "[encoded data removed]",
      "text/plain": [
       "<Figure size 432x288 with 1 Axes>"
      ]
     },
     "metadata": {
      "needs_background": "light"
     },
     "output_type": "display_data"
    }
   ],
   "source": [
    "plt.axhline(color='black')                                  #Temperatura ideal\n",
    "plt.plot(range(0, total_steps), agent_res, color='red')     #Temperatura con el agente\n",
    "plt.plot(range(0, total_steps), external_res, color='blue') #Temperatura sin agente"
   ]
  },
  {
   "cell_type": "markdown",
   "metadata": {},
   "source": [
    "# Métrica de Performance\n",
    "Una posible métrica de performance, podría ser ver la temperatura media del ambiente con la acción del agente."
   ]
  },
  {
   "cell_type": "code",
   "execution_count": 88,
   "metadata": {},
   "outputs": [
    {
     "name": "stdout",
     "output_type": "stream",
     "text": [
      "Temperatura media con el agente:  -2.6082000000000005\n",
      "Temperatura media sin el agente:  -0.3669999999999998\n"
     ]
    }
   ],
   "source": [
    "print(\"Temperatura media con el agente: \", np.mean(agent_res))\n",
    "print(\"Temperatura media sin el agente: \", np.mean(external_res))"
   ]
  },
  {
   "cell_type": "markdown",
   "metadata": {},
   "source": [
    "Otra posible métrica de performance, es evaluar para cada instante de tiempo (step) cuanto difiere la temperatura obtenida de la objetivo=0. Esto se puede hacer con mean_squared_error o mean_absolute_error. \n",
    "Comparemos la métrica obtenida por el agente contra la métrica obtenida sin un agente:"
   ]
  },
  {
   "cell_type": "code",
   "execution_count": 89,
   "metadata": {},
   "outputs": [
    {
     "name": "stdout",
     "output_type": "stream",
     "text": [
      "Variación media con el agente:  6.966799999999999\n",
      "Variación media sin el agente:  13.1336\n"
     ]
    }
   ],
   "source": [
    "goal_temp = np.zeros(total_steps)\n",
    "print(\"Variación media con el agente: \", mean_absolute_error(goal_temp, agent_res))\n",
    "print(\"Variación media sin el agente: \", mean_absolute_error(goal_temp, external_res))"
   ]
  },
  {
   "cell_type": "markdown",
   "metadata": {},
   "source": [
    "# Ejercicio: Model (Goal / Utility) Based Agent "
   ]
  },
  {
   "cell_type": "markdown",
   "metadata": {},
   "source": [
    "Construir un Agente basado en un modelo. \n",
    "Esto es: \n",
    "    - Construir un modelo a mano, por ejemplo un grafo, con estados y transiciones [Ver figura].\n",
    "    - Discretizar las observaciones devueltas por el ambiente mapeándolas a un estado.\n",
    "    - Tomar una decisón basada en el estado.\n",
    "    - Definir un objetivo y una utilidad\n",
    "\n",
    "Por ejemplo, el Agente podría conocer un modelo que tiene 2 estados {Frío, Calor}\n",
    "<img src=\"Modelo.png\">\n"
   ]
  }
 ],
 "metadata": {
  "kernelspec": {
   "display_name": "Python 3",
   "language": "python",
   "name": "python3"
  },
  "language_info": {
   "codemirror_mode": {
    "name": "ipython",
    "version": 3
   },
   "file_extension": ".py",
   "mimetype": "text/x-python",
   "name": "python",
   "nbconvert_exporter": "python",
   "pygments_lexer": "ipython3",
   "version": "3.9.7"
  }
 },
 "nbformat": 4,
 "nbformat_minor": 4
}
