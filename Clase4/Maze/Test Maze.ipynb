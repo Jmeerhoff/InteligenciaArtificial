{
 "cells": [
  {
   "cell_type": "markdown",
   "metadata": {},
   "source": [
    "# Maze"
   ]
  },
  {
   "cell_type": "code",
   "execution_count": 1,
   "metadata": {},
   "outputs": [],
   "source": [
    "# https://github.com/MattChanTK/gym-maze\n",
    "# !pip install gym pygame"
   ]
  },
  {
   "cell_type": "code",
   "execution_count": 2,
   "metadata": {},
   "outputs": [
    {
     "name": "stdout",
     "output_type": "stream",
     "text": [
      "pygame 2.1.2 (SDL 2.0.18, Python 3.9.7)\n",
      "Hello from the pygame community. https://www.pygame.org/contribute.html\n"
     ]
    }
   ],
   "source": [
    "from mazeEnvExtended import MazeEnvExtended\n",
    "from agent import Agent\n",
    "from modelExample import ModelExample\n",
    "from modelNuestro import ModelNuestro"
   ]
  },
  {
   "cell_type": "code",
   "execution_count": 3,
   "metadata": {},
   "outputs": [],
   "source": [
    "maze_name = \"MazeEnv10x10_1\""
   ]
  },
  {
   "cell_type": "markdown",
   "metadata": {},
   "source": [
    "## Environment"
   ]
  },
  {
   "cell_type": "code",
   "execution_count": 4,
   "metadata": {},
   "outputs": [],
   "source": [
    "env = MazeEnvExtended(maze_file = maze_name + '.npy', mode='human')"
   ]
  },
  {
   "cell_type": "code",
   "execution_count": 5,
   "metadata": {},
   "outputs": [
    {
     "data": {
      "text/plain": [
       "Discrete(4)"
      ]
     },
     "execution_count": 5,
     "metadata": {},
     "output_type": "execute_result"
    }
   ],
   "source": [
    "env.action_space"
   ]
  },
  {
   "cell_type": "code",
   "execution_count": 6,
   "metadata": {},
   "outputs": [],
   "source": [
    "# env.action_space.start, env.action_space.n"
   ]
  },
  {
   "cell_type": "code",
   "execution_count": 7,
   "metadata": {},
   "outputs": [
    {
     "data": {
      "text/plain": [
       "Box([0. 0.], [9. 9.], (2,), float32)"
      ]
     },
     "execution_count": 7,
     "metadata": {},
     "output_type": "execute_result"
    }
   ],
   "source": [
    "env.observation_space"
   ]
  },
  {
   "cell_type": "code",
   "execution_count": 8,
   "metadata": {},
   "outputs": [
    {
     "data": {
      "text/plain": [
       "array([[[  0,   0,   0],\n",
       "        [  0,   0,   0],\n",
       "        [  0,   0,   0],\n",
       "        ...,\n",
       "        [  0,   0,   0],\n",
       "        [  0,   0,   0],\n",
       "        [  0,   0,   0]],\n",
       "\n",
       "       [[  0,   0,   0],\n",
       "        [ 20, 159,  20],\n",
       "        [ 20, 159,  20],\n",
       "        ...,\n",
       "        [255, 255, 255],\n",
       "        [255, 255, 255],\n",
       "        [  0,   0,   0]],\n",
       "\n",
       "       [[  0,   0,   0],\n",
       "        [ 20, 159,  20],\n",
       "        [ 20, 159,  20],\n",
       "        ...,\n",
       "        [255, 255, 255],\n",
       "        [255, 255, 255],\n",
       "        [  0,   0,   0]],\n",
       "\n",
       "       ...,\n",
       "\n",
       "       [[  0,   0,   0],\n",
       "        [255, 255, 255],\n",
       "        [255, 255, 255],\n",
       "        ...,\n",
       "        [255, 255, 255],\n",
       "        [255, 255, 255],\n",
       "        [  0,   0,   0]],\n",
       "\n",
       "       [[  0,   0,   0],\n",
       "        [255, 255, 255],\n",
       "        [255, 255, 255],\n",
       "        ...,\n",
       "        [255, 255, 255],\n",
       "        [255, 255, 255],\n",
       "        [  0,   0,   0]],\n",
       "\n",
       "       [[  0,   0,   0],\n",
       "        [  0,   0,   0],\n",
       "        [  0,   0,   0],\n",
       "        ...,\n",
       "        [  0,   0,   0],\n",
       "        [  0,   0,   0],\n",
       "        [  0,   0,   0]]], dtype=uint8)"
      ]
     },
     "execution_count": 8,
     "metadata": {},
     "output_type": "execute_result"
    }
   ],
   "source": [
    "env.render()"
   ]
  },
  {
   "cell_type": "markdown",
   "metadata": {},
   "source": [
    "## Model"
   ]
  },
  {
   "cell_type": "code",
   "execution_count": 9,
   "metadata": {},
   "outputs": [
    {
     "name": "stdout",
     "output_type": "stream",
     "text": [
      "Load your model here with file: gym_maze/envs/maze_samples/MazeEnv10x10_1.txt\n"
     ]
    }
   ],
   "source": [
    "model = ModelNuestro(model_file = maze_name + '.txt')"
   ]
  },
  {
   "cell_type": "code",
   "execution_count": 10,
   "metadata": {},
   "outputs": [
    {
     "data": {
      "text/plain": [
       "{'0': {'N': '0', 'E': '0', 'S': '10', 'W': '0'},\n",
       " '10': {'N': '0', 'E': '10', 'S': '20', 'W': '10'},\n",
       " '20': {'N': '10', 'E': '20', 'S': '30', 'W': '20'},\n",
       " '30': {'N': '20', 'E': '30', 'S': '40', 'W': '30'},\n",
       " '40': {'N': '30', 'E': '40', 'S': '50', 'W': '40'},\n",
       " '50': {'N': '40', 'E': '51', 'S': '60', 'W': '50'},\n",
       " '60': {'N': '50', 'E': '61', 'S': '60', 'W': '60'},\n",
       " '70': {'N': '70', 'E': '71', 'S': '80', 'W': '70'},\n",
       " '80': {'N': '70', 'E': '81', 'S': '90', 'W': '80'},\n",
       " '90': {'N': '80', 'E': '91', 'S': '90', 'W': '90'},\n",
       " '1': {'N': '1', 'E': '2', 'S': '11', 'W': '1'},\n",
       " '11': {'N': '1', 'E': '12', 'S': '21', 'W': '11'},\n",
       " '21': {'N': '11', 'E': '22', 'S': '31', 'W': '21'},\n",
       " '31': {'N': '21', 'E': '31', 'S': '41', 'W': '31'},\n",
       " '41': {'N': '31', 'E': '41', 'S': '51', 'W': '41'},\n",
       " '51': {'N': '41', 'E': '52', 'S': '51', 'W': '50'},\n",
       " '61': {'N': '61', 'E': '62', 'S': '61', 'W': '60'},\n",
       " '71': {'N': '71', 'E': '72', 'S': '81', 'W': '70'},\n",
       " '81': {'N': '71', 'E': '82', 'S': '81', 'W': '80'},\n",
       " '91': {'N': '91', 'E': '92', 'S': '91', 'W': '90'},\n",
       " '2': {'N': '2', 'E': '2', 'S': '12', 'W': '1'},\n",
       " '12': {'N': '2', 'E': '13', 'S': '22', 'W': '11'},\n",
       " '22': {'N': '12', 'E': '23', 'S': '32', 'W': '21'},\n",
       " '32': {'N': '22', 'E': '32', 'S': '42', 'W': '32'},\n",
       " '42': {'N': '32', 'E': '42', 'S': '52', 'W': '42'},\n",
       " '52': {'N': '42', 'E': '52', 'S': '52', 'W': '51'},\n",
       " '62': {'N': '62', 'E': '63', 'S': '72', 'W': '61'},\n",
       " '72': {'N': '62', 'E': '72', 'S': '82', 'W': '71'},\n",
       " '82': {'N': '72', 'E': '82', 'S': '82', 'W': '81'},\n",
       " '92': {'N': '92', 'E': '93', 'S': '92', 'W': '91'},\n",
       " '3': {'N': '3', 'E': '4', 'S': '13', 'W': '3'},\n",
       " '13': {'N': '3', 'E': '14', 'S': '23', 'W': '12'},\n",
       " '23': {'N': '13', 'E': '24', 'S': '23', 'W': '22'},\n",
       " '33': {'N': '33', 'E': '34', 'S': '43', 'W': '33'},\n",
       " '43': {'N': '33', 'E': '43', 'S': '53', 'W': '43'},\n",
       " '53': {'N': '43', 'E': '54', 'S': '53', 'W': '53'},\n",
       " '63': {'N': '63', 'E': '63', 'S': '73', 'W': '62'},\n",
       " '73': {'N': '63', 'E': '74', 'S': '73', 'W': '73'},\n",
       " '83': {'N': '83', 'E': '84', 'S': '93', 'W': '83'},\n",
       " '93': {'N': '83', 'E': '94', 'S': '93', 'W': '92'},\n",
       " '4': {'N': '4', 'E': '5', 'S': '4', 'W': '3'},\n",
       " '14': {'N': '14', 'E': '15', 'S': '14', 'W': '13'},\n",
       " '24': {'N': '24', 'E': '25', 'S': '24', 'W': '23'},\n",
       " '34': {'N': '34', 'E': '35', 'S': '44', 'W': '33'},\n",
       " '44': {'N': '34', 'E': '45', 'S': '44', 'W': '44'},\n",
       " '54': {'N': '54', 'E': '54', 'S': '64', 'W': '53'},\n",
       " '64': {'N': '54', 'E': '65', 'S': '74', 'W': '64'},\n",
       " '74': {'N': '64', 'E': '74', 'S': '84', 'W': '73'},\n",
       " '84': {'N': '74', 'E': '84', 'S': '84', 'W': '83'},\n",
       " '94': {'N': '94', 'E': '95', 'S': '94', 'W': '93'},\n",
       " '5': {'N': '5', 'E': '6', 'S': '15', 'W': '4'},\n",
       " '15': {'N': '5', 'E': '15', 'S': '25', 'W': '14'},\n",
       " '25': {'N': '15', 'E': '26', 'S': '35', 'W': '24'},\n",
       " '35': {'N': '25', 'E': '35', 'S': '45', 'W': '34'},\n",
       " '45': {'N': '35', 'E': '46', 'S': '55', 'W': '44'},\n",
       " '55': {'N': '45', 'E': '56', 'S': '55', 'W': '55'},\n",
       " '65': {'N': '65', 'E': '65', 'S': '75', 'W': '64'},\n",
       " '75': {'N': '65', 'E': '76', 'S': '75', 'W': '75'},\n",
       " '85': {'N': '85', 'E': '86', 'S': '95', 'W': '85'},\n",
       " '95': {'N': '85', 'E': '95', 'S': '95', 'W': '94'},\n",
       " '6': {'N': '6', 'E': '6', 'S': '6', 'W': '5'},\n",
       " '16': {'N': '16', 'E': '17', 'S': '26', 'W': '16'},\n",
       " '26': {'N': '16', 'E': '26', 'S': '36', 'W': '25'},\n",
       " '36': {'N': '26', 'E': '37', 'S': '46', 'W': '36'},\n",
       " '46': {'N': '36', 'E': '47', 'S': '46', 'W': '45'},\n",
       " '56': {'N': '56', 'E': '57', 'S': '56', 'W': '55'},\n",
       " '66': {'N': '66', 'E': '67', 'S': '76', 'W': '66'},\n",
       " '76': {'N': '66', 'E': '77', 'S': '86', 'W': '75'},\n",
       " '86': {'N': '76', 'E': '86', 'S': '96', 'W': '85'},\n",
       " '96': {'N': '86', 'E': '97', 'S': '96', 'W': '96'},\n",
       " '7': {'N': '7', 'E': '8', 'S': '17', 'W': '7'},\n",
       " '17': {'N': '7', 'E': '17', 'S': '27', 'W': '16'},\n",
       " '27': {'N': '17', 'E': '28', 'S': '27', 'W': '27'},\n",
       " '37': {'N': '37', 'E': '38', 'S': '37', 'W': '36'},\n",
       " '47': {'N': '47', 'E': '48', 'S': '57', 'W': '46'},\n",
       " '57': {'N': '47', 'E': '58', 'S': '57', 'W': '56'},\n",
       " '67': {'N': '67', 'E': '68', 'S': '67', 'W': '66'},\n",
       " '77': {'N': '77', 'E': '78', 'S': '87', 'W': '76'},\n",
       " '87': {'N': '77', 'E': '88', 'S': '97', 'W': '87'},\n",
       " '97': {'N': '87', 'E': '98', 'S': '97', 'W': '96'},\n",
       " '8': {'N': '8', 'E': '9', 'S': '8', 'W': '7'},\n",
       " '18': {'N': '18', 'E': '18', 'S': '28', 'W': '18'},\n",
       " '28': {'N': '18', 'E': '29', 'S': '38', 'W': '27'},\n",
       " '38': {'N': '28', 'E': '38', 'S': '38', 'W': '37'},\n",
       " '48': {'N': '48', 'E': '49', 'S': '48', 'W': '47'},\n",
       " '58': {'N': '58', 'E': '59', 'S': '58', 'W': '57'},\n",
       " '68': {'N': '68', 'E': '69', 'S': '68', 'W': '67'},\n",
       " '78': {'N': '78', 'E': '78', 'S': '78', 'W': '77'},\n",
       " '88': {'N': '88', 'E': '89', 'S': '88', 'W': '87'},\n",
       " '98': {'N': '98', 'E': '99', 'S': '98', 'W': '97'},\n",
       " '9': {'N': '9', 'E': '9', 'S': '19', 'W': '8'},\n",
       " '19': {'N': '9', 'E': '19', 'S': '29', 'W': '19'},\n",
       " '29': {'N': '19', 'E': '29', 'S': '39', 'W': '28'},\n",
       " '39': {'N': '29', 'E': '39', 'S': '49', 'W': '39'},\n",
       " '49': {'N': '39', 'E': '49', 'S': '59', 'W': '48'},\n",
       " '59': {'N': '49', 'E': '59', 'S': '59', 'W': '58'},\n",
       " '69': {'N': '69', 'E': '69', 'S': '79', 'W': '68'},\n",
       " '79': {'N': '69', 'E': '79', 'S': '89', 'W': '79'},\n",
       " '89': {'N': '79', 'E': '89', 'S': '99', 'W': '88'},\n",
       " '99': {'N': '89', 'E': '99', 'S': '99', 'W': '98'}}"
      ]
     },
     "execution_count": 10,
     "metadata": {},
     "output_type": "execute_result"
    }
   ],
   "source": [
    "model._raw_model"
   ]
  },
  {
   "cell_type": "code",
   "execution_count": 11,
   "metadata": {},
   "outputs": [
    {
     "data": {
      "text/plain": [
       "array([0, 0])"
      ]
     },
     "execution_count": 11,
     "metadata": {},
     "output_type": "execute_result"
    }
   ],
   "source": [
    "env.reset()"
   ]
  },
  {
   "cell_type": "code",
   "execution_count": 12,
   "metadata": {},
   "outputs": [
    {
     "name": "stdout",
     "output_type": "stream",
     "text": [
      "<modelNuestro.ModelNuestro object at 0x7f809049aaf0>\n"
     ]
    }
   ],
   "source": [
    "agent = Agent(model = model)"
   ]
  },
  {
   "cell_type": "code",
   "execution_count": 13,
   "metadata": {},
   "outputs": [
    {
     "name": "stdout",
     "output_type": "stream",
     "text": [
      "Play manually...\n",
      "Goal 0 is (20, False)\n",
      "obs=[0 1] reward=0 done_env=False\n",
      "Goal 1 is (20, False)\n",
      "obs=[0 2] reward=1 done_env=True\n",
      "Goal 2 is (20, False)\n",
      "obs=[0 3] reward=0 done_env=False\n",
      "Goal 3 is (20, False)\n",
      "obs=[0 4] reward=0 done_env=False\n",
      "Goal 4 is (20, False)\n",
      "obs=[0 4] reward=0 done_env=False\n",
      "Goal 5 is (20, False)\n",
      "obs=[0 4] reward=0 done_env=False\n",
      "Goal 6 is (20, False)\n",
      "obs=[0 3] reward=0 done_env=False\n",
      "Goal 7 is (20, False)\n",
      "obs=[0 3] reward=0 done_env=False\n",
      "Goal 8 is (20, False)\n",
      "obs=[0 2] reward=1 done_env=True\n",
      "Goal 9 is (20, False)\n",
      "obs=[0 2] reward=1 done_env=True\n",
      "Goal 10 is (9, False)\n",
      "obs=[0 3] reward=0 done_env=False\n",
      "Goal 11 is (9, False)\n",
      "obs=[0 4] reward=0 done_env=False\n",
      "Goal 12 is (9, False)\n",
      "obs=[0 5] reward=0 done_env=False\n",
      "Goal 13 is (9, False)\n",
      "obs=[1 5] reward=0 done_env=False\n",
      "Goal 14 is (9, False)\n",
      "obs=[1 4] reward=0 done_env=False\n",
      "Goal 15 is (9, False)\n",
      "obs=[1 3] reward=0 done_env=False\n",
      "Goal 16 is (9, False)\n",
      "obs=[1 2] reward=0 done_env=False\n",
      "Goal 17 is (9, False)\n",
      "obs=[2 2] reward=0 done_env=False\n",
      "Goal 18 is (9, False)\n",
      "obs=[3 2] reward=0 done_env=False\n",
      "Goal 19 is (9, False)\n",
      "obs=[4 2] reward=0 done_env=False\n",
      "Goal 20 is (99, True)\n"
     ]
    },
    {
     "ename": "KeyboardInterrupt",
     "evalue": "",
     "output_type": "error",
     "traceback": [
      "\u001b[0;31m---------------------------------------------------------------------------\u001b[0m",
      "\u001b[0;31mKeyboardInterrupt\u001b[0m                         Traceback (most recent call last)",
      "\u001b[0;32m/var/folders/xl/7hsvh3ps2rjd0z7l_f2jb99w0000gn/T/ipykernel_7941/479779871.py\u001b[0m in \u001b[0;36m<module>\u001b[0;34m\u001b[0m\n\u001b[0;32m----> 1\u001b[0;31m \u001b[0mrewards\u001b[0m\u001b[0;34m,\u001b[0m \u001b[0mstep_counter\u001b[0m \u001b[0;34m=\u001b[0m \u001b[0magent\u001b[0m\u001b[0;34m.\u001b[0m\u001b[0mrun\u001b[0m\u001b[0;34m(\u001b[0m\u001b[0menv\u001b[0m\u001b[0;34m)\u001b[0m\u001b[0;34m\u001b[0m\u001b[0;34m\u001b[0m\u001b[0m\n\u001b[0m",
      "\u001b[0;32m~/Desktop/ORT/Semestre_7/InteligenciaArtificial/Practico/Clase4/Maze/agent.py\u001b[0m in \u001b[0;36mrun\u001b[0;34m(self, env)\u001b[0m\n\u001b[1;32m      9\u001b[0m     \u001b[0;32mdef\u001b[0m \u001b[0mrun\u001b[0m\u001b[0;34m(\u001b[0m\u001b[0mself\u001b[0m\u001b[0;34m,\u001b[0m \u001b[0menv\u001b[0m\u001b[0;34m)\u001b[0m\u001b[0;34m:\u001b[0m\u001b[0;34m\u001b[0m\u001b[0;34m\u001b[0m\u001b[0m\n\u001b[1;32m     10\u001b[0m         \u001b[0mself\u001b[0m\u001b[0;34m.\u001b[0m\u001b[0mmodel\u001b[0m\u001b[0;34m.\u001b[0m\u001b[0mreset\u001b[0m\u001b[0;34m(\u001b[0m\u001b[0;34m)\u001b[0m\u001b[0;34m\u001b[0m\u001b[0;34m\u001b[0m\u001b[0m\n\u001b[0;32m---> 11\u001b[0;31m         \u001b[0;32mreturn\u001b[0m \u001b[0mself\u001b[0m\u001b[0;34m.\u001b[0m\u001b[0m_loop\u001b[0m\u001b[0;34m(\u001b[0m\u001b[0menv\u001b[0m\u001b[0;34m)\u001b[0m\u001b[0;34m\u001b[0m\u001b[0;34m\u001b[0m\u001b[0m\n\u001b[0m\u001b[1;32m     12\u001b[0m \u001b[0;34m\u001b[0m\u001b[0m\n\u001b[1;32m     13\u001b[0m     \u001b[0;32mdef\u001b[0m \u001b[0m_loop\u001b[0m\u001b[0;34m(\u001b[0m\u001b[0mself\u001b[0m\u001b[0;34m,\u001b[0m \u001b[0menv\u001b[0m\u001b[0;34m)\u001b[0m\u001b[0;34m:\u001b[0m\u001b[0;34m\u001b[0m\u001b[0;34m\u001b[0m\u001b[0m\n",
      "\u001b[0;32m~/Desktop/ORT/Semestre_7/InteligenciaArtificial/Practico/Clase4/Maze/agent.py\u001b[0m in \u001b[0;36m_loop\u001b[0;34m(self, env)\u001b[0m\n\u001b[1;32m     20\u001b[0m \u001b[0;34m\u001b[0m\u001b[0m\n\u001b[1;32m     21\u001b[0m         \u001b[0;32mwhile\u001b[0m \u001b[0;32mnot\u001b[0m \u001b[0mdone\u001b[0m\u001b[0;34m:\u001b[0m\u001b[0;34m\u001b[0m\u001b[0;34m\u001b[0m\u001b[0m\n\u001b[0;32m---> 22\u001b[0;31m             \u001b[0mself\u001b[0m\u001b[0;34m.\u001b[0m\u001b[0mset_goal\u001b[0m\u001b[0;34m(\u001b[0m\u001b[0mstep_counter\u001b[0m\u001b[0;34m,\u001b[0m \u001b[0menv\u001b[0m\u001b[0;34m)\u001b[0m\u001b[0;34m\u001b[0m\u001b[0;34m\u001b[0m\u001b[0m\n\u001b[0m\u001b[1;32m     23\u001b[0m \u001b[0;34m\u001b[0m\u001b[0m\n\u001b[1;32m     24\u001b[0m             \u001b[0mnode\u001b[0m \u001b[0;34m=\u001b[0m \u001b[0mobs\u001b[0m\u001b[0;34m[\u001b[0m\u001b[0;36m0\u001b[0m\u001b[0;34m]\u001b[0m \u001b[0;34m+\u001b[0m \u001b[0mobs\u001b[0m\u001b[0;34m[\u001b[0m\u001b[0;36m1\u001b[0m\u001b[0;34m]\u001b[0m\u001b[0;34m*\u001b[0m\u001b[0menv\u001b[0m\u001b[0;34m.\u001b[0m\u001b[0mmaze_size\u001b[0m\u001b[0;34m[\u001b[0m\u001b[0;36m1\u001b[0m\u001b[0;34m]\u001b[0m\u001b[0;34m\u001b[0m\u001b[0;34m\u001b[0m\u001b[0m\n",
      "\u001b[0;32m~/Desktop/ORT/Semestre_7/InteligenciaArtificial/Practico/Clase4/Maze/agent.py\u001b[0m in \u001b[0;36mset_goal\u001b[0;34m(self, step_counter, env)\u001b[0m\n\u001b[1;32m     40\u001b[0m         print(\"Goal \" + str(step_counter) +\n\u001b[1;32m     41\u001b[0m               \" is \" + str(self.model.current_goal))\n\u001b[0;32m---> 42\u001b[0;31m         \u001b[0menv\u001b[0m\u001b[0;34m.\u001b[0m\u001b[0mset_goal\u001b[0m\u001b[0;34m(\u001b[0m\u001b[0mgoalId\u001b[0m\u001b[0;34m)\u001b[0m\u001b[0;34m\u001b[0m\u001b[0;34m\u001b[0m\u001b[0m\n\u001b[0m",
      "\u001b[0;32m~/Desktop/ORT/Semestre_7/InteligenciaArtificial/Practico/Clase4/Maze/mazeEnvExtended.py\u001b[0m in \u001b[0;36mset_goal\u001b[0;34m(self, goalId)\u001b[0m\n\u001b[1;32m     59\u001b[0m \u001b[0;34m\u001b[0m\u001b[0m\n\u001b[1;32m     60\u001b[0m     \u001b[0;32mdef\u001b[0m \u001b[0mset_goal\u001b[0m\u001b[0;34m(\u001b[0m\u001b[0mself\u001b[0m\u001b[0;34m,\u001b[0m \u001b[0mgoalId\u001b[0m\u001b[0;34m)\u001b[0m\u001b[0;34m:\u001b[0m\u001b[0;34m\u001b[0m\u001b[0;34m\u001b[0m\u001b[0m\n\u001b[0;32m---> 61\u001b[0;31m         \u001b[0mself\u001b[0m\u001b[0;34m.\u001b[0m\u001b[0mmaze_view\u001b[0m\u001b[0;34m.\u001b[0m\u001b[0mset_goal\u001b[0m\u001b[0;34m(\u001b[0m\u001b[0mgoalId\u001b[0m\u001b[0;34m)\u001b[0m\u001b[0;34m\u001b[0m\u001b[0;34m\u001b[0m\u001b[0m\n\u001b[0m",
      "\u001b[0;32m~/Desktop/ORT/Semestre_7/InteligenciaArtificial/Practico/Clase4/Maze/gym_maze/envs/maze_view_2d.py\u001b[0m in \u001b[0;36mset_goal\u001b[0;34m(self, goalId)\u001b[0m\n\u001b[1;32m    198\u001b[0m         \u001b[0mself\u001b[0m\u001b[0;34m.\u001b[0m\u001b[0m__draw_goal\u001b[0m\u001b[0;34m(\u001b[0m\u001b[0mcolour\u001b[0m\u001b[0;34m=\u001b[0m\u001b[0;34m(\u001b[0m\u001b[0;36m0\u001b[0m\u001b[0;34m,\u001b[0m \u001b[0;36m0\u001b[0m\u001b[0;34m,\u001b[0m \u001b[0;36m0\u001b[0m\u001b[0;34m)\u001b[0m\u001b[0;34m,\u001b[0m \u001b[0mtransparency\u001b[0m\u001b[0;34m=\u001b[0m\u001b[0;36m0\u001b[0m\u001b[0;34m)\u001b[0m\u001b[0;34m\u001b[0m\u001b[0;34m\u001b[0m\u001b[0m\n\u001b[1;32m    199\u001b[0m         \u001b[0mself\u001b[0m\u001b[0;34m.\u001b[0m\u001b[0m__goal\u001b[0m \u001b[0;34m=\u001b[0m \u001b[0mnp\u001b[0m\u001b[0;34m.\u001b[0m\u001b[0marray\u001b[0m\u001b[0;34m(\u001b[0m\u001b[0;34m(\u001b[0m\u001b[0mx\u001b[0m\u001b[0;34m,\u001b[0m \u001b[0my\u001b[0m\u001b[0;34m)\u001b[0m\u001b[0;34m)\u001b[0m\u001b[0;34m\u001b[0m\u001b[0;34m\u001b[0m\u001b[0m\n\u001b[0;32m--> 200\u001b[0;31m         \u001b[0mself\u001b[0m\u001b[0;34m.\u001b[0m\u001b[0mupdate\u001b[0m\u001b[0;34m(\u001b[0m\u001b[0;34m)\u001b[0m\u001b[0;34m\u001b[0m\u001b[0;34m\u001b[0m\u001b[0m\n\u001b[0m\u001b[1;32m    201\u001b[0m \u001b[0;34m\u001b[0m\u001b[0m\n\u001b[1;32m    202\u001b[0m     \u001b[0;32mdef\u001b[0m \u001b[0m__cover_walls\u001b[0m\u001b[0;34m(\u001b[0m\u001b[0mself\u001b[0m\u001b[0;34m,\u001b[0m \u001b[0mx\u001b[0m\u001b[0;34m,\u001b[0m \u001b[0my\u001b[0m\u001b[0;34m,\u001b[0m \u001b[0mdirs\u001b[0m\u001b[0;34m,\u001b[0m \u001b[0mcolour\u001b[0m\u001b[0;34m=\u001b[0m\u001b[0;34m(\u001b[0m\u001b[0;36m0\u001b[0m\u001b[0;34m,\u001b[0m \u001b[0;36m0\u001b[0m\u001b[0;34m,\u001b[0m \u001b[0;36m255\u001b[0m\u001b[0;34m,\u001b[0m \u001b[0;36m15\u001b[0m\u001b[0;34m)\u001b[0m\u001b[0;34m)\u001b[0m\u001b[0;34m:\u001b[0m\u001b[0;34m\u001b[0m\u001b[0;34m\u001b[0m\u001b[0m\n",
      "\u001b[0;32m~/Desktop/ORT/Semestre_7/InteligenciaArtificial/Practico/Clase4/Maze/gym_maze/envs/maze_view_2d.py\u001b[0m in \u001b[0;36mupdate\u001b[0;34m(self, mode)\u001b[0m\n\u001b[1;32m     74\u001b[0m     \u001b[0;32mdef\u001b[0m \u001b[0mupdate\u001b[0m\u001b[0;34m(\u001b[0m\u001b[0mself\u001b[0m\u001b[0;34m,\u001b[0m \u001b[0mmode\u001b[0m\u001b[0;34m=\u001b[0m\u001b[0;34m\"human\"\u001b[0m\u001b[0;34m)\u001b[0m\u001b[0;34m:\u001b[0m\u001b[0;34m\u001b[0m\u001b[0;34m\u001b[0m\u001b[0m\n\u001b[1;32m     75\u001b[0m         \u001b[0;32mtry\u001b[0m\u001b[0;34m:\u001b[0m\u001b[0;34m\u001b[0m\u001b[0;34m\u001b[0m\u001b[0m\n\u001b[0;32m---> 76\u001b[0;31m             \u001b[0mimg_output\u001b[0m \u001b[0;34m=\u001b[0m \u001b[0mself\u001b[0m\u001b[0;34m.\u001b[0m\u001b[0m__view_update\u001b[0m\u001b[0;34m(\u001b[0m\u001b[0mmode\u001b[0m\u001b[0;34m)\u001b[0m\u001b[0;34m\u001b[0m\u001b[0;34m\u001b[0m\u001b[0m\n\u001b[0m\u001b[1;32m     77\u001b[0m             \u001b[0mself\u001b[0m\u001b[0;34m.\u001b[0m\u001b[0m__controller_update\u001b[0m\u001b[0;34m(\u001b[0m\u001b[0;34m)\u001b[0m\u001b[0;34m\u001b[0m\u001b[0;34m\u001b[0m\u001b[0m\n\u001b[1;32m     78\u001b[0m         \u001b[0;32mexcept\u001b[0m \u001b[0mException\u001b[0m \u001b[0;32mas\u001b[0m \u001b[0me\u001b[0m\u001b[0;34m:\u001b[0m\u001b[0;34m\u001b[0m\u001b[0;34m\u001b[0m\u001b[0m\n",
      "\u001b[0;32m~/Desktop/ORT/Semestre_7/InteligenciaArtificial/Practico/Clase4/Maze/gym_maze/envs/maze_view_2d.py\u001b[0m in \u001b[0;36m__view_update\u001b[0;34m(self, mode)\u001b[0m\n\u001b[1;32m    136\u001b[0m                 \u001b[0mpygame\u001b[0m\u001b[0;34m.\u001b[0m\u001b[0mdisplay\u001b[0m\u001b[0;34m.\u001b[0m\u001b[0mflip\u001b[0m\u001b[0;34m(\u001b[0m\u001b[0;34m)\u001b[0m\u001b[0;34m\u001b[0m\u001b[0;34m\u001b[0m\u001b[0m\n\u001b[1;32m    137\u001b[0m \u001b[0;34m\u001b[0m\u001b[0m\n\u001b[0;32m--> 138\u001b[0;31m             \u001b[0;32mreturn\u001b[0m \u001b[0mnp\u001b[0m\u001b[0;34m.\u001b[0m\u001b[0mflipud\u001b[0m\u001b[0;34m(\u001b[0m\u001b[0mnp\u001b[0m\u001b[0;34m.\u001b[0m\u001b[0mrot90\u001b[0m\u001b[0;34m(\u001b[0m\u001b[0mpygame\u001b[0m\u001b[0;34m.\u001b[0m\u001b[0msurfarray\u001b[0m\u001b[0;34m.\u001b[0m\u001b[0marray3d\u001b[0m\u001b[0;34m(\u001b[0m\u001b[0mpygame\u001b[0m\u001b[0;34m.\u001b[0m\u001b[0mdisplay\u001b[0m\u001b[0;34m.\u001b[0m\u001b[0mget_surface\u001b[0m\u001b[0;34m(\u001b[0m\u001b[0;34m)\u001b[0m\u001b[0;34m)\u001b[0m\u001b[0;34m)\u001b[0m\u001b[0;34m)\u001b[0m\u001b[0;34m\u001b[0m\u001b[0;34m\u001b[0m\u001b[0m\n\u001b[0m\u001b[1;32m    139\u001b[0m \u001b[0;34m\u001b[0m\u001b[0m\n\u001b[1;32m    140\u001b[0m     \u001b[0;32mdef\u001b[0m \u001b[0m__draw_maze\u001b[0m\u001b[0;34m(\u001b[0m\u001b[0mself\u001b[0m\u001b[0;34m)\u001b[0m\u001b[0;34m:\u001b[0m\u001b[0;34m\u001b[0m\u001b[0;34m\u001b[0m\u001b[0m\n",
      "\u001b[0;32m/opt/anaconda3/lib/python3.9/site-packages/pygame/surfarray.py\u001b[0m in \u001b[0;36marray3d\u001b[0;34m(surface)\u001b[0m\n\u001b[1;32m    190\u001b[0m     \u001b[0mwidth\u001b[0m\u001b[0;34m,\u001b[0m \u001b[0mheight\u001b[0m \u001b[0;34m=\u001b[0m \u001b[0msurface\u001b[0m\u001b[0;34m.\u001b[0m\u001b[0mget_size\u001b[0m\u001b[0;34m(\u001b[0m\u001b[0;34m)\u001b[0m\u001b[0;34m\u001b[0m\u001b[0;34m\u001b[0m\u001b[0m\n\u001b[1;32m    191\u001b[0m     \u001b[0marray\u001b[0m \u001b[0;34m=\u001b[0m \u001b[0mnumpy\u001b[0m\u001b[0;34m.\u001b[0m\u001b[0mempty\u001b[0m\u001b[0;34m(\u001b[0m\u001b[0;34m(\u001b[0m\u001b[0mwidth\u001b[0m\u001b[0;34m,\u001b[0m \u001b[0mheight\u001b[0m\u001b[0;34m,\u001b[0m \u001b[0;36m3\u001b[0m\u001b[0;34m)\u001b[0m\u001b[0;34m,\u001b[0m \u001b[0mnumpy\u001b[0m\u001b[0;34m.\u001b[0m\u001b[0muint8\u001b[0m\u001b[0;34m)\u001b[0m\u001b[0;34m\u001b[0m\u001b[0;34m\u001b[0m\u001b[0m\n\u001b[0;32m--> 192\u001b[0;31m     \u001b[0msurface_to_array\u001b[0m\u001b[0;34m(\u001b[0m\u001b[0marray\u001b[0m\u001b[0;34m,\u001b[0m \u001b[0msurface\u001b[0m\u001b[0;34m)\u001b[0m\u001b[0;34m\u001b[0m\u001b[0;34m\u001b[0m\u001b[0m\n\u001b[0m\u001b[1;32m    193\u001b[0m     \u001b[0;32mreturn\u001b[0m \u001b[0marray\u001b[0m\u001b[0;34m\u001b[0m\u001b[0;34m\u001b[0m\u001b[0m\n\u001b[1;32m    194\u001b[0m \u001b[0;34m\u001b[0m\u001b[0m\n",
      "\u001b[0;31mKeyboardInterrupt\u001b[0m: "
     ]
    }
   ],
   "source": [
    "rewards, step_counter = agent.run(env)"
   ]
  },
  {
   "cell_type": "code",
   "execution_count": null,
   "metadata": {},
   "outputs": [],
   "source": [
    "rewards, step_counter"
   ]
  }
 ],
 "metadata": {
  "kernelspec": {
   "display_name": "Python 3",
   "language": "python",
   "name": "python3"
  },
  "language_info": {
   "codemirror_mode": {
    "name": "ipython",
    "version": 3
   },
   "file_extension": ".py",
   "mimetype": "text/x-python",
   "name": "python",
   "nbconvert_exporter": "python",
   "pygments_lexer": "ipython3",
   "version": "3.9.7"
  }
 },
 "nbformat": 4,
 "nbformat_minor": 2
}
