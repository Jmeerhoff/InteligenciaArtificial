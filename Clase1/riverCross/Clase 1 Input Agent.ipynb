{
 "cells": [
  {
   "cell_type": "code",
   "execution_count": 1,
   "metadata": {},
   "outputs": [
    {
     "name": "stdout",
     "output_type": "stream",
     "text": [
      "Requirement already satisfied: gym in /opt/anaconda3/lib/python3.9/site-packages (0.23.0)\n",
      "Collecting gym\n",
      "  Downloading gym-0.23.1.tar.gz (626 kB)\n",
      "\u001b[K     |████████████████████████████████| 626 kB 444 kB/s eta 0:00:01\n",
      "\u001b[?25h  Installing build dependencies ... \u001b[?25ldone\n",
      "\u001b[?25h  Getting requirements to build wheel ... \u001b[?25ldone\n",
      "\u001b[?25h    Preparing wheel metadata ... \u001b[?25ldone\n",
      "\u001b[?25hRequirement already satisfied: numpy>=1.18.0 in /opt/anaconda3/lib/python3.9/site-packages (from gym) (1.20.3)\n",
      "Requirement already satisfied: cloudpickle>=1.2.0 in /opt/anaconda3/lib/python3.9/site-packages (from gym) (2.0.0)\n",
      "Requirement already satisfied: importlib-metadata>=4.10.0 in /opt/anaconda3/lib/python3.9/site-packages (from gym) (4.11.2)\n",
      "Requirement already satisfied: gym-notices>=0.0.4 in /opt/anaconda3/lib/python3.9/site-packages (from gym) (0.0.5)\n",
      "Requirement already satisfied: zipp>=0.5 in /opt/anaconda3/lib/python3.9/site-packages (from importlib-metadata>=4.10.0->gym) (3.6.0)\n",
      "Building wheels for collected packages: gym\n",
      "  Building wheel for gym (PEP 517) ... \u001b[?25ldone\n",
      "\u001b[?25h  Created wheel for gym: filename=gym-0.23.1-py3-none-any.whl size=701378 sha256=9fb80cd61c99cb094b8f10133e9aaba205865c5639e05f259cc5404d911e96ae\n",
      "  Stored in directory: /Users/jmeerhoff/Library/Caches/pip/wheels/4e/be/7e/92a54668db96883e38ce60a9249dc55de7cd6eee49e7311940\n",
      "Successfully built gym\n",
      "Installing collected packages: gym\n",
      "  Attempting uninstall: gym\n",
      "    Found existing installation: gym 0.23.0\n",
      "    Uninstalling gym-0.23.0:\n",
      "      Successfully uninstalled gym-0.23.0\n",
      "Successfully installed gym-0.23.1\n"
     ]
    }
   ],
   "source": [
    "import sys\n",
    "!{sys.executable} -m pip install -U gym"
   ]
  },
  {
   "cell_type": "code",
   "execution_count": 2,
   "metadata": {},
   "outputs": [],
   "source": [
    "from riverCrossEnv import RiverCrossEnv\n",
    "from riverCrossUtils import finish, win\n",
    "import riverCrossInputAgent as agent"
   ]
  },
  {
   "cell_type": "code",
   "execution_count": 3,
   "metadata": {},
   "outputs": [],
   "source": [
    "def run():\n",
    "    \n",
    "    env = RiverCrossEnv()\n",
    "    \n",
    "    done = False\n",
    "    obs = env.reset()\n",
    "    \n",
    "    while (not(done)):\n",
    "        env.render()\n",
    "        action = agent.input_action()        \n",
    "        next_obs, reward, done, debug = env.step(action)\n",
    "        obs = next_obs\n",
    "       \n",
    "    env.render()\n",
    "    finish(obs)"
   ]
  },
  {
   "cell_type": "code",
   "execution_count": null,
   "metadata": {
    "scrolled": false,
    "slideshow": {
     "slide_type": "fragment"
    }
   },
   "outputs": [],
   "source": [
    "run()"
   ]
  },
  {
   "cell_type": "markdown",
   "metadata": {},
   "source": [
    "## Agente Random"
   ]
  },
  {
   "cell_type": "code",
   "execution_count": 5,
   "metadata": {},
   "outputs": [],
   "source": [
    "class RandomAgent():\n",
    "    def  __init__(self, env):\n",
    "        self.env = env\n",
    "      \n",
    "    def choose_random_action(self):\n",
    "        return self.env.action_space.sample()"
   ]
  },
  {
   "cell_type": "code",
   "execution_count": 20,
   "metadata": {},
   "outputs": [],
   "source": [
    "def randomAgent():\n",
    "    env = RiverCrossEnv()\n",
    "    agent = RandomAgent(env)\n",
    "    done = False\n",
    "    obs = env.reset()\n",
    "\n",
    "    while (not(done)):\n",
    "        env.render()\n",
    "        action = agent.choose_random_action()\n",
    "        next_obs, reward, done, debug = env.step(action)\n",
    "        obs = next_obs\n",
    "        print(reward)\n",
    "    env.render()\n",
    "    print(reward)\n",
    "    finish(obs)\n"
   ]
  },
  {
   "cell_type": "code",
   "execution_count": 21,
   "metadata": {},
   "outputs": [
    {
     "name": "stdout",
     "output_type": "stream",
     "text": [
      "CGW< __\n",
      "0\n",
      "CW > _G\n",
      "0\n",
      "CW > _G\n",
      "0\n",
      "CW > _G\n",
      "0\n",
      "CW > _G\n",
      "0\n",
      "CW > _G\n",
      "0\n",
      "CW > _G\n",
      "0\n",
      "CW > _G\n",
      "0\n",
      "CGW< __\n",
      "0\n",
      "GW > _C\n",
      "0\n",
      "Perdiste\n"
     ]
    }
   ],
   "source": [
    "randomAgent()"
   ]
  },
  {
   "cell_type": "code",
   "execution_count": 54,
   "metadata": {},
   "outputs": [],
   "source": [
    "def randomAgentUntilWin():\n",
    "    reward = 0\n",
    "    attempt = 1\n",
    "    while (reward != 1):\n",
    "        env = RiverCrossEnv()\n",
    "        agent = RandomAgent(env)\n",
    "        done = False\n",
    "        obs = env.reset()\n",
    "\n",
    "        while (not(done)):\n",
    "            env.render()\n",
    "            action = agent.choose_random_action()\n",
    "            next_obs, reward, done, debug = env.step(action)\n",
    "            obs = next_obs\n",
    "        env.render()\n",
    "        print('Attempt:')\n",
    "        print(attempt)\n",
    "        attempt = attempt + 1\n",
    "        finish(obs)"
   ]
  },
  {
   "cell_type": "code",
   "execution_count": 58,
   "metadata": {},
   "outputs": [
    {
     "name": "stdout",
     "output_type": "stream",
     "text": [
      "CGW< __\n",
      "CGW< __\n",
      "GW > _C\n",
      "Attempt:\n",
      "1\n",
      "Perdiste\n",
      "CGW< __\n",
      "GW > _C\n",
      "Attempt:\n",
      "2\n",
      "Perdiste\n",
      "CGW< __\n",
      "CGW< __\n",
      "CGW> __\n",
      "Attempt:\n",
      "3\n",
      "Perdiste\n",
      "CGW< __\n",
      "CGW< __\n",
      "CGW> __\n",
      "Attempt:\n",
      "4\n",
      "Perdiste\n",
      "CGW< __\n",
      "CG > _W\n",
      "Attempt:\n",
      "5\n",
      "Perdiste\n",
      "CGW< __\n",
      "CGW< __\n",
      "CGW< __\n",
      "CGW< __\n",
      "CGW< __\n",
      "CW > _G\n",
      "CW > _G\n",
      "CGW< __\n",
      "CW > _G\n",
      "CW > _G\n",
      "CW > _G\n",
      "CW > _G\n",
      "CW > _G\n",
      "CW > _G\n",
      "CW < _G\n",
      "CW < _G\n",
      "CW < _G\n",
      "CW < _G\n",
      "C_ > WG\n",
      "CG < _W\n",
      "CG < _W\n",
      "CG < _W\n",
      "CG < _W\n",
      "CG < _W\n",
      "CG < _W\n",
      "CG < _W\n",
      "CG < _W\n",
      "CG < _W\n",
      "CG < _W\n",
      "CG < _W\n",
      "CG < _W\n",
      "CG < _W\n",
      "CG < _W\n",
      "G_ > WC\n",
      "G_ < WC\n",
      "G_ < WC\n",
      "__ >WGC\n",
      "Attempt:\n",
      "6\n",
      "Felicitaciones, ganaste!\n"
     ]
    }
   ],
   "source": [
    "randomAgentUntilWin()"
   ]
  },
  {
   "cell_type": "markdown",
   "metadata": {},
   "source": [
    "## Agente ActionList"
   ]
  },
  {
   "cell_type": "code",
   "execution_count": 23,
   "metadata": {},
   "outputs": [],
   "source": [
    "class ActionListAgent():\n",
    "    def  __init__(self, env, actionlist):\n",
    "        self.env = env\n",
    "        self.actionList = actionlist\n",
    "        self.current = 0\n",
    "      \n",
    "    def chooseAction(self):\n",
    "        toReturn = self.current\n",
    "        self.current = self.current + 1\n",
    "        if(self.current >= len(self.actionList)):\n",
    "            self.current = 0\n",
    "        return self.actionList[toReturn]"
   ]
  },
  {
   "cell_type": "code",
   "execution_count": 25,
   "metadata": {},
   "outputs": [],
   "source": [
    "def actionListAgentRun():\n",
    "    env = RiverCrossEnv()\n",
    "    # env.action_space.seed(27)\n",
    "    actionList = [env.action_space.sample(),env.action_space.sample()]\n",
    "    agent = ActionListAgent(env, actionList)\n",
    "    done = False\n",
    "    obs = env.reset()\n",
    "    \n",
    "    while (not(done)):\n",
    "        env.render()\n",
    "        action = agent.chooseAction()     \n",
    "        next_obs, reward, done, debug = env.step(action)\n",
    "        obs = next_obs\n",
    "    env.render()\n",
    "    finish(obs)"
   ]
  },
  {
   "cell_type": "code",
   "execution_count": 24,
   "metadata": {},
   "outputs": [
    {
     "name": "stdout",
     "output_type": "stream",
     "text": [
      "CGW< __\n",
      "0\n",
      "GW > _C\n",
      "Perdiste\n"
     ]
    }
   ],
   "source": [
    "actionListAgentRun()"
   ]
  },
  {
   "cell_type": "markdown",
   "metadata": {},
   "source": [
    "## Agente Reflex"
   ]
  },
  {
   "cell_type": "code",
   "execution_count": 26,
   "metadata": {},
   "outputs": [
    {
     "data": {
      "text/plain": [
       "{'direction': 0, 'passenger': 1}"
      ]
     },
     "execution_count": 26,
     "metadata": {},
     "output_type": "execute_result"
    }
   ],
   "source": [
    "\n",
    "WinStrategy = {\n",
    "    \"0000\" : {'direction': 0, 'passenger': 1},\n",
    "    \"1010\" : {'direction': 1, 'passenger': 3},\n",
    "    \"0010\" : {'direction': 0, 'passenger': 2},\n",
    "    \"1011\" : {'direction': 1, 'passenger': 1},\n",
    "    \"0001\" : {'direction': 0, 'passenger': 0},\n",
    "    \"1101\" : {'direction': 1, 'passenger': 3},\n",
    "    \"0101\" : {'direction': 0, 'passenger': 1},\n",
    "}\n",
    "WinStrategy[\"0000\"]"
   ]
  },
  {
   "cell_type": "code",
   "execution_count": 27,
   "metadata": {},
   "outputs": [],
   "source": [
    "class ReflexAgent():\n",
    "    def  __init__(self, env, strategy):\n",
    "        self.env = env\n",
    "        self.strategy = strategy\n",
    "      \n",
    "    def chooseAction(self, obs):\n",
    "        convertedObs = str(obs[\"farmerSide\"])+ str(obs[\"cabbageSide\"])+ str(obs[\"goatSide\"])+str(obs[\"wolfSide\"])\n",
    "        return self.strategy[convertedObs]"
   ]
  },
  {
   "cell_type": "code",
   "execution_count": 28,
   "metadata": {},
   "outputs": [],
   "source": [
    "def reflexAgentRun():\n",
    "    env = RiverCrossEnv()\n",
    "    agent = ReflexAgent(env, WinStrategy)\n",
    "    done = False\n",
    "    obs = env.reset()\n",
    "    \n",
    "    while (not(done)):\n",
    "        env.render()\n",
    "        action = agent.chooseAction(obs)     \n",
    "        next_obs, reward, done, debug = env.step(action)\n",
    "        obs = next_obs\n",
    "    print(reward)\n",
    "    env.render()\n",
    "    finish(obs)"
   ]
  },
  {
   "cell_type": "code",
   "execution_count": 29,
   "metadata": {},
   "outputs": [
    {
     "data": {
      "text/plain": [
       "OrderedDict([('direction', 1), ('passenger', 2)])"
      ]
     },
     "execution_count": 29,
     "metadata": {},
     "output_type": "execute_result"
    }
   ],
   "source": [
    "env = RiverCrossEnv()\n",
    "obs = env.reset()\n",
    "env.observation_space\n",
    "win = [{\"cabbageSide\":1}]\n",
    "env.action_space.sample()\n",
    "# obs\n",
    "# convertedObs = str(obs[\"farmerSide\"])+ str(obs[\"cabbageSide\"])+ str(obs[\"goatSide\"])+str(obs[\"wolfSide\"])\n",
    "# print(convertedObs)\n"
   ]
  },
  {
   "cell_type": "code",
   "execution_count": 30,
   "metadata": {},
   "outputs": [
    {
     "name": "stdout",
     "output_type": "stream",
     "text": [
      "CGW< __\n",
      "CW > _G\n",
      "CW < _G\n",
      "C_ > WG\n",
      "CG < _W\n",
      "G_ > WC\n",
      "G_ < WC\n",
      "1\n",
      "__ >WGC\n",
      "Felicitaciones, ganaste!\n"
     ]
    }
   ],
   "source": [
    "reflexAgentRun()"
   ]
  }
 ],
 "metadata": {
  "kernelspec": {
   "display_name": "Python 3",
   "language": "python",
   "name": "python3"
  },
  "language_info": {
   "codemirror_mode": {
    "name": "ipython",
    "version": 3
   },
   "file_extension": ".py",
   "mimetype": "text/x-python",
   "name": "python",
   "nbconvert_exporter": "python",
   "pygments_lexer": "ipython3",
   "version": "3.9.7"
  }
 },
 "nbformat": 4,
 "nbformat_minor": 2
}
